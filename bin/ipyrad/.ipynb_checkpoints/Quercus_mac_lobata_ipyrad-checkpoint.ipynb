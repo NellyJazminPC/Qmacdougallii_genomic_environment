{
 "cells": [
  {
   "cell_type": "markdown",
   "metadata": {},
   "source": [
    "# Quercus macdougalli\n",
    "\n",
    "## Denovo+referencia, Q. lobata \n",
    "\n",
    "### ipyrad"
   ]
  },
  {
   "cell_type": "code",
   "execution_count": 3,
   "metadata": {},
   "outputs": [],
   "source": [
    "#Importar librerias\n",
    "import ipyrad as ip"
   ]
  },
  {
   "cell_type": "code",
   "execution_count": 2,
   "metadata": {},
   "outputs": [
    {
     "name": "stdout",
     "output_type": "stream",
     "text": [
      "New Assembly: data2\n"
     ]
    }
   ],
   "source": [
    "## Crear un objeto Ensamble llamado data1. \n",
    "data2 = ip.Assembly(\"data_qlobata\")"
   ]
  },
  {
   "cell_type": "code",
   "execution_count": 21,
   "metadata": {},
   "outputs": [
    {
     "name": "stdout",
     "output_type": "stream",
     "text": [
      "0   assembly_name               data2                                        \n",
      "1   project_dir                 ./Quercus/quercus_macdougallii_qlobata       \n",
      "2   raw_fastq_path                                                           \n",
      "3   barcodes_path                                                            \n",
      "4   sorted_fastq_path           ./Quercus/Campos_Project_002/fastq/*.fastq   \n",
      "5   assembly_method             denovo+reference                             \n",
      "6   reference_sequence          ./Quercus/genoma_ref/Qlobata.v3.0.fasta      \n",
      "7   datatype                    ddrad                                        \n",
      "8   restriction_overhang        ('TGCAG', '')                                \n",
      "9   max_low_qual_bases          5                                            \n",
      "10  phred_Qscore_offset         33                                           \n",
      "11  mindepth_statistical        6                                            \n",
      "12  mindepth_majrule            6                                            \n",
      "13  maxdepth                    10000                                        \n",
      "14  clust_threshold             0.85                                         \n",
      "15  max_barcode_mismatch        0                                            \n",
      "16  filter_adapters             0                                            \n",
      "17  filter_min_trim_len         35                                           \n",
      "18  max_alleles_consens         2                                            \n",
      "19  max_Ns_consens              (5, 5)                                       \n",
      "20  max_Hs_consens              (8, 8)                                       \n",
      "21  min_samples_locus           2                                            \n",
      "22  max_SNPs_locus              (20, 20)                                     \n",
      "23  max_Indels_locus            (8, 8)                                       \n",
      "24  max_shared_Hs_locus         0.5                                          \n",
      "25  trim_reads                  (0, 0, 0, 0)                                 \n",
      "26  trim_loci                   (0, 0, 0, 0)                                 \n",
      "27  output_formats              ['p', 's', 'v']                              \n",
      "28  pop_assign_file                                                          \n"
     ]
    }
   ],
   "source": [
    "## setting/modifying parameters for this Assembly object\n",
    "data2.set_params('project_dir', \"../../data/ipyrad_qlobata_qmacdou)\n",
    "data2.set_params('sorted_fastq_path', \"/home/n311/Quercus/Campos_Project_002/fastq/*.fastq\")\n",
    "data2.set_params('assembly_method', \"denovo+reference\")\n",
    "data2.set_params('reference_sequence', \"/home/n311/Quercus/genoma_ref/Qlobata.v3.0.fasta\")\n",
    "data2.set_params('filter_adapters', 0)\n",
    "data2.set_params('max_alleles_consens', 2)\n",
    "data2.set_params('min_samples_locus', 2)\n",
    "\n",
    "data2.set_params('datatype', 'ddrad')\n",
    "\n",
    "## prints the parameters to the screen\n",
    "data2.get_params()"
   ]
  },
  {
   "cell_type": "markdown",
   "metadata": {},
   "source": [
    "Paso 1: "
   ]
  },
  {
   "cell_type": "code",
   "execution_count": 5,
   "metadata": {},
   "outputs": [
    {
     "name": "stdout",
     "output_type": "stream",
     "text": [
      "Assembly: data2\n",
      "[####################] 100%  loading reads         | 0:00:02 | s1 | \n"
     ]
    }
   ],
   "source": [
    "## run step 1 to create Samples objects\n",
    "data2.run(\"1\")"
   ]
  },
  {
   "cell_type": "code",
   "execution_count": 10,
   "metadata": {},
   "outputs": [
    {
     "data": {
      "text/html": [
       "<div>\n",
       "<style scoped>\n",
       "    .dataframe tbody tr th:only-of-type {\n",
       "        vertical-align: middle;\n",
       "    }\n",
       "\n",
       "    .dataframe tbody tr th {\n",
       "        vertical-align: top;\n",
       "    }\n",
       "\n",
       "    .dataframe thead th {\n",
       "        text-align: right;\n",
       "    }\n",
       "</style>\n",
       "<table border=\"1\" class=\"dataframe\">\n",
       "  <thead>\n",
       "    <tr style=\"text-align: right;\">\n",
       "      <th></th>\n",
       "      <th>state</th>\n",
       "      <th>reads_raw</th>\n",
       "      <th>reads_passed_filter</th>\n",
       "      <th>refseq_mapped_reads</th>\n",
       "      <th>refseq_unmapped_reads</th>\n",
       "      <th>clusters_total</th>\n",
       "      <th>clusters_hidepth</th>\n",
       "      <th>hetero_est</th>\n",
       "      <th>error_est</th>\n",
       "    </tr>\n",
       "  </thead>\n",
       "  <tbody>\n",
       "    <tr>\n",
       "      <th>QM10_S437001</th>\n",
       "      <td>4</td>\n",
       "      <td>4120245</td>\n",
       "      <td>4119152</td>\n",
       "      <td>2411128</td>\n",
       "      <td>285123</td>\n",
       "      <td>151217</td>\n",
       "      <td>24425</td>\n",
       "      <td>0.048903</td>\n",
       "      <td>0.015510</td>\n",
       "    </tr>\n",
       "    <tr>\n",
       "      <th>QM9_S436001</th>\n",
       "      <td>4</td>\n",
       "      <td>5044646</td>\n",
       "      <td>5043189</td>\n",
       "      <td>2830727</td>\n",
       "      <td>681499</td>\n",
       "      <td>211069</td>\n",
       "      <td>16477</td>\n",
       "      <td>0.030829</td>\n",
       "      <td>0.016193</td>\n",
       "    </tr>\n",
       "  </tbody>\n",
       "</table>\n",
       "</div>"
      ],
      "text/plain": [
       "              state  reads_raw  reads_passed_filter  refseq_mapped_reads  \\\n",
       "QM10_S437001      4    4120245              4119152              2411128   \n",
       "QM9_S436001       4    5044646              5043189              2830727   \n",
       "\n",
       "              refseq_unmapped_reads  clusters_total  clusters_hidepth  \\\n",
       "QM10_S437001                 285123          151217             24425   \n",
       "QM9_S436001                  681499          211069             16477   \n",
       "\n",
       "              hetero_est  error_est  \n",
       "QM10_S437001    0.048903   0.015510  \n",
       "QM9_S436001     0.030829   0.016193  "
      ]
     },
     "execution_count": 10,
     "metadata": {},
     "output_type": "execute_result"
    }
   ],
   "source": [
    "data2.stats"
   ]
  },
  {
   "cell_type": "markdown",
   "metadata": {},
   "source": [
    "Paso 2: Filtrado"
   ]
  },
  {
   "cell_type": "code",
   "execution_count": 6,
   "metadata": {},
   "outputs": [
    {
     "name": "stdout",
     "output_type": "stream",
     "text": [
      "Assembly: data2\n",
      "[####################] 100%  processing reads      | 0:03:57 | s2 | \n"
     ]
    }
   ],
   "source": [
    "## run step 2 to create Samples objects\n",
    "data2.run(\"2\")"
   ]
  },
  {
   "cell_type": "code",
   "execution_count": 11,
   "metadata": {},
   "outputs": [
    {
     "data": {
      "text/html": [
       "<div>\n",
       "<style scoped>\n",
       "    .dataframe tbody tr th:only-of-type {\n",
       "        vertical-align: middle;\n",
       "    }\n",
       "\n",
       "    .dataframe tbody tr th {\n",
       "        vertical-align: top;\n",
       "    }\n",
       "\n",
       "    .dataframe thead th {\n",
       "        text-align: right;\n",
       "    }\n",
       "</style>\n",
       "<table border=\"1\" class=\"dataframe\">\n",
       "  <thead>\n",
       "    <tr style=\"text-align: right;\">\n",
       "      <th></th>\n",
       "      <th>state</th>\n",
       "      <th>reads_raw</th>\n",
       "      <th>reads_passed_filter</th>\n",
       "      <th>refseq_mapped_reads</th>\n",
       "      <th>refseq_unmapped_reads</th>\n",
       "      <th>clusters_total</th>\n",
       "      <th>clusters_hidepth</th>\n",
       "      <th>hetero_est</th>\n",
       "      <th>error_est</th>\n",
       "    </tr>\n",
       "  </thead>\n",
       "  <tbody>\n",
       "    <tr>\n",
       "      <th>QM10_S437001</th>\n",
       "      <td>4</td>\n",
       "      <td>4120245</td>\n",
       "      <td>4119152</td>\n",
       "      <td>2411128</td>\n",
       "      <td>285123</td>\n",
       "      <td>151217</td>\n",
       "      <td>24425</td>\n",
       "      <td>0.048903</td>\n",
       "      <td>0.015510</td>\n",
       "    </tr>\n",
       "    <tr>\n",
       "      <th>QM9_S436001</th>\n",
       "      <td>4</td>\n",
       "      <td>5044646</td>\n",
       "      <td>5043189</td>\n",
       "      <td>2830727</td>\n",
       "      <td>681499</td>\n",
       "      <td>211069</td>\n",
       "      <td>16477</td>\n",
       "      <td>0.030829</td>\n",
       "      <td>0.016193</td>\n",
       "    </tr>\n",
       "  </tbody>\n",
       "</table>\n",
       "</div>"
      ],
      "text/plain": [
       "              state  reads_raw  reads_passed_filter  refseq_mapped_reads  \\\n",
       "QM10_S437001      4    4120245              4119152              2411128   \n",
       "QM9_S436001       4    5044646              5043189              2830727   \n",
       "\n",
       "              refseq_unmapped_reads  clusters_total  clusters_hidepth  \\\n",
       "QM10_S437001                 285123          151217             24425   \n",
       "QM9_S436001                  681499          211069             16477   \n",
       "\n",
       "              hetero_est  error_est  \n",
       "QM10_S437001    0.048903   0.015510  \n",
       "QM9_S436001     0.030829   0.016193  "
      ]
     },
     "execution_count": 11,
     "metadata": {},
     "output_type": "execute_result"
    }
   ],
   "source": [
    "data2.stats"
   ]
  },
  {
   "cell_type": "markdown",
   "metadata": {},
   "source": [
    "Paso 3: Agrupamiento y mapeo a genoma de referencia"
   ]
  },
  {
   "cell_type": "code",
   "execution_count": 7,
   "metadata": {},
   "outputs": [
    {
     "name": "stdout",
     "output_type": "stream",
     "text": [
      "Assembly: data2\n",
      "[####################] 100%  indexing reference    | 0:15:38 | s3 | \n",
      "[####################] 100%  dereplicating         | 0:00:35 | s3 | \n",
      "[####################] 100%  mapping               | 0:40:43 | s3 | \n",
      "[####################] 100%  clustering            | 0:45:38 | s3 | \n",
      "[####################] 100%  building clusters     | 0:00:47 | s3 | \n",
      "[####################] 100%  fetch mapped reads    | 0:03:12 | s3 | \n",
      "[####################] 100%  chunking              | 0:00:23 | s3 | \n",
      "[####################] 100%  aligning              | 3:31:57 | s3 | \n",
      "[####################] 100%  concatenating         | 0:00:52 | s3 | \n"
     ]
    }
   ],
   "source": [
    "## run step 3\n",
    "data2.run(\"3\")"
   ]
  },
  {
   "cell_type": "code",
   "execution_count": 8,
   "metadata": {},
   "outputs": [
    {
     "name": "stdout",
     "output_type": "stream",
     "text": [
      "Assembly: data2\n",
      "[####################] 100%  inferring [H, E]      | 0:02:07 | s4 | \n"
     ]
    }
   ],
   "source": [
    "## run step 4\n",
    "data2.run(\"4\")"
   ]
  },
  {
   "cell_type": "code",
   "execution_count": 16,
   "metadata": {},
   "outputs": [
    {
     "name": "stdout",
     "output_type": "stream",
     "text": [
      "Assembly: data2\n",
      "[####################] 100%  calculating depths    | 0:00:06 | s5 | \n",
      "[####################] 100%  chunking clusters     | 0:00:06 | s5 | \n",
      "[####################] 100%  consens calling       | 0:07:26 | s5 | \n"
     ]
    }
   ],
   "source": [
    "data2.run(\"5\")"
   ]
  },
  {
   "cell_type": "code",
   "execution_count": 17,
   "metadata": {},
   "outputs": [
    {
     "data": {
      "text/html": [
       "<div>\n",
       "<style scoped>\n",
       "    .dataframe tbody tr th:only-of-type {\n",
       "        vertical-align: middle;\n",
       "    }\n",
       "\n",
       "    .dataframe tbody tr th {\n",
       "        vertical-align: top;\n",
       "    }\n",
       "\n",
       "    .dataframe thead th {\n",
       "        text-align: right;\n",
       "    }\n",
       "</style>\n",
       "<table border=\"1\" class=\"dataframe\">\n",
       "  <thead>\n",
       "    <tr style=\"text-align: right;\">\n",
       "      <th></th>\n",
       "      <th>state</th>\n",
       "      <th>reads_raw</th>\n",
       "      <th>reads_passed_filter</th>\n",
       "      <th>refseq_mapped_reads</th>\n",
       "      <th>refseq_unmapped_reads</th>\n",
       "      <th>clusters_total</th>\n",
       "      <th>clusters_hidepth</th>\n",
       "      <th>hetero_est</th>\n",
       "      <th>error_est</th>\n",
       "      <th>reads_consens</th>\n",
       "    </tr>\n",
       "  </thead>\n",
       "  <tbody>\n",
       "    <tr>\n",
       "      <th>QM10_S437001</th>\n",
       "      <td>5</td>\n",
       "      <td>4120245</td>\n",
       "      <td>4119152</td>\n",
       "      <td>2411128</td>\n",
       "      <td>285123</td>\n",
       "      <td>151217</td>\n",
       "      <td>24425</td>\n",
       "      <td>0.048903</td>\n",
       "      <td>0.015510</td>\n",
       "      <td>10289</td>\n",
       "    </tr>\n",
       "    <tr>\n",
       "      <th>QM9_S436001</th>\n",
       "      <td>5</td>\n",
       "      <td>5044646</td>\n",
       "      <td>5043189</td>\n",
       "      <td>2830727</td>\n",
       "      <td>681499</td>\n",
       "      <td>211069</td>\n",
       "      <td>16477</td>\n",
       "      <td>0.030829</td>\n",
       "      <td>0.016193</td>\n",
       "      <td>6862</td>\n",
       "    </tr>\n",
       "  </tbody>\n",
       "</table>\n",
       "</div>"
      ],
      "text/plain": [
       "              state  reads_raw  reads_passed_filter  refseq_mapped_reads  \\\n",
       "QM10_S437001      5    4120245              4119152              2411128   \n",
       "QM9_S436001       5    5044646              5043189              2830727   \n",
       "\n",
       "              refseq_unmapped_reads  clusters_total  clusters_hidepth  \\\n",
       "QM10_S437001                 285123          151217             24425   \n",
       "QM9_S436001                  681499          211069             16477   \n",
       "\n",
       "              hetero_est  error_est  reads_consens  \n",
       "QM10_S437001    0.048903   0.015510          10289  \n",
       "QM9_S436001     0.030829   0.016193           6862  "
      ]
     },
     "execution_count": 17,
     "metadata": {},
     "output_type": "execute_result"
    }
   ],
   "source": [
    "data2.stats"
   ]
  },
  {
   "cell_type": "code",
   "execution_count": 18,
   "metadata": {},
   "outputs": [
    {
     "name": "stdout",
     "output_type": "stream",
     "text": [
      "Assembly: data2\n",
      "[####################] 100%  concat/shuffle input  | 0:00:00 | s6 | \n",
      "[####################] 100%  clustering across     | 0:00:02 | s6 | \n",
      "[####################] 100%  building clusters     | 0:00:00 | s6 | \n",
      "[####################] 100%  aligning clusters     | 0:00:01 | s6 | \n",
      "[####################] 100%  database indels       | 0:00:00 | s6 | \n",
      "[####################] 100%  indexing clusters     | 0:00:03 | s6 | \n",
      "[####################] 100%  building database     | 0:00:00 | s6 | \n"
     ]
    }
   ],
   "source": [
    "data2.run(\"6\")"
   ]
  },
  {
   "cell_type": "code",
   "execution_count": 19,
   "metadata": {},
   "outputs": [
    {
     "data": {
      "text/html": [
       "<div>\n",
       "<style scoped>\n",
       "    .dataframe tbody tr th:only-of-type {\n",
       "        vertical-align: middle;\n",
       "    }\n",
       "\n",
       "    .dataframe tbody tr th {\n",
       "        vertical-align: top;\n",
       "    }\n",
       "\n",
       "    .dataframe thead th {\n",
       "        text-align: right;\n",
       "    }\n",
       "</style>\n",
       "<table border=\"1\" class=\"dataframe\">\n",
       "  <thead>\n",
       "    <tr style=\"text-align: right;\">\n",
       "      <th></th>\n",
       "      <th>state</th>\n",
       "      <th>reads_raw</th>\n",
       "      <th>reads_passed_filter</th>\n",
       "      <th>refseq_mapped_reads</th>\n",
       "      <th>refseq_unmapped_reads</th>\n",
       "      <th>clusters_total</th>\n",
       "      <th>clusters_hidepth</th>\n",
       "      <th>hetero_est</th>\n",
       "      <th>error_est</th>\n",
       "      <th>reads_consens</th>\n",
       "    </tr>\n",
       "  </thead>\n",
       "  <tbody>\n",
       "    <tr>\n",
       "      <th>QM10_S437001</th>\n",
       "      <td>6</td>\n",
       "      <td>4120245</td>\n",
       "      <td>4119152</td>\n",
       "      <td>2411128</td>\n",
       "      <td>285123</td>\n",
       "      <td>151217</td>\n",
       "      <td>24425</td>\n",
       "      <td>0.048903</td>\n",
       "      <td>0.015510</td>\n",
       "      <td>10289</td>\n",
       "    </tr>\n",
       "    <tr>\n",
       "      <th>QM9_S436001</th>\n",
       "      <td>6</td>\n",
       "      <td>5044646</td>\n",
       "      <td>5043189</td>\n",
       "      <td>2830727</td>\n",
       "      <td>681499</td>\n",
       "      <td>211069</td>\n",
       "      <td>16477</td>\n",
       "      <td>0.030829</td>\n",
       "      <td>0.016193</td>\n",
       "      <td>6862</td>\n",
       "    </tr>\n",
       "  </tbody>\n",
       "</table>\n",
       "</div>"
      ],
      "text/plain": [
       "              state  reads_raw  reads_passed_filter  refseq_mapped_reads  \\\n",
       "QM10_S437001      6    4120245              4119152              2411128   \n",
       "QM9_S436001       6    5044646              5043189              2830727   \n",
       "\n",
       "              refseq_unmapped_reads  clusters_total  clusters_hidepth  \\\n",
       "QM10_S437001                 285123          151217             24425   \n",
       "QM9_S436001                  681499          211069             16477   \n",
       "\n",
       "              hetero_est  error_est  reads_consens  \n",
       "QM10_S437001    0.048903   0.015510          10289  \n",
       "QM9_S436001     0.030829   0.016193           6862  "
      ]
     },
     "execution_count": 19,
     "metadata": {},
     "output_type": "execute_result"
    }
   ],
   "source": [
    "data2.stats"
   ]
  },
  {
   "cell_type": "code",
   "execution_count": 24,
   "metadata": {
    "scrolled": true
   },
   "outputs": [
    {
     "name": "stdout",
     "output_type": "stream",
     "text": [
      "Assembly: data2\n",
      "[####################] 100%  filtering loci        | 0:00:00 | s7 | \n",
      "[####################] 100%  building loci/stats   | 0:00:00 | s7 | \n",
      "[####################] 100%  building vcf file     | 0:00:02 | s7 | \n",
      "[####################] 100%  writing vcf file      | 0:00:00 | s7 | \n",
      "[####################] 100%  building arrays       | 0:00:00 | s7 | \n",
      "[####################] 100%  writing outfiles      | 0:00:00 | s7 | \n",
      "Outfiles written to: ~/Quercus/quercus_macdougallii_qlobata/data2_outfiles\n",
      "\n"
     ]
    }
   ],
   "source": [
    "data2.run(\"7\", force=True) "
   ]
  },
  {
   "cell_type": "code",
   "execution_count": 25,
   "metadata": {},
   "outputs": [
    {
     "data": {
      "text/html": [
       "<div>\n",
       "<style scoped>\n",
       "    .dataframe tbody tr th:only-of-type {\n",
       "        vertical-align: middle;\n",
       "    }\n",
       "\n",
       "    .dataframe tbody tr th {\n",
       "        vertical-align: top;\n",
       "    }\n",
       "\n",
       "    .dataframe thead th {\n",
       "        text-align: right;\n",
       "    }\n",
       "</style>\n",
       "<table border=\"1\" class=\"dataframe\">\n",
       "  <thead>\n",
       "    <tr style=\"text-align: right;\">\n",
       "      <th></th>\n",
       "      <th>state</th>\n",
       "      <th>reads_raw</th>\n",
       "      <th>reads_passed_filter</th>\n",
       "      <th>refseq_mapped_reads</th>\n",
       "      <th>refseq_unmapped_reads</th>\n",
       "      <th>clusters_total</th>\n",
       "      <th>clusters_hidepth</th>\n",
       "      <th>hetero_est</th>\n",
       "      <th>error_est</th>\n",
       "      <th>reads_consens</th>\n",
       "    </tr>\n",
       "  </thead>\n",
       "  <tbody>\n",
       "    <tr>\n",
       "      <th>QM10_S437001</th>\n",
       "      <td>6</td>\n",
       "      <td>4120245</td>\n",
       "      <td>4119152</td>\n",
       "      <td>2411128</td>\n",
       "      <td>285123</td>\n",
       "      <td>151217</td>\n",
       "      <td>24425</td>\n",
       "      <td>0.048903</td>\n",
       "      <td>0.015510</td>\n",
       "      <td>10289</td>\n",
       "    </tr>\n",
       "    <tr>\n",
       "      <th>QM9_S436001</th>\n",
       "      <td>6</td>\n",
       "      <td>5044646</td>\n",
       "      <td>5043189</td>\n",
       "      <td>2830727</td>\n",
       "      <td>681499</td>\n",
       "      <td>211069</td>\n",
       "      <td>16477</td>\n",
       "      <td>0.030829</td>\n",
       "      <td>0.016193</td>\n",
       "      <td>6862</td>\n",
       "    </tr>\n",
       "  </tbody>\n",
       "</table>\n",
       "</div>"
      ],
      "text/plain": [
       "              state  reads_raw  reads_passed_filter  refseq_mapped_reads  \\\n",
       "QM10_S437001      6    4120245              4119152              2411128   \n",
       "QM9_S436001       6    5044646              5043189              2830727   \n",
       "\n",
       "              refseq_unmapped_reads  clusters_total  clusters_hidepth  \\\n",
       "QM10_S437001                 285123          151217             24425   \n",
       "QM9_S436001                  681499          211069             16477   \n",
       "\n",
       "              hetero_est  error_est  reads_consens  \n",
       "QM10_S437001    0.048903   0.015510          10289  \n",
       "QM9_S436001     0.030829   0.016193           6862  "
      ]
     },
     "execution_count": 25,
     "metadata": {},
     "output_type": "execute_result"
    }
   ],
   "source": [
    "data2.stats"
   ]
  }
 ],
 "metadata": {
  "kernelspec": {
   "display_name": "Python 3",
   "language": "python",
   "name": "python3"
  },
  "language_info": {
   "codemirror_mode": {
    "name": "ipython",
    "version": 3
   },
   "file_extension": ".py",
   "mimetype": "text/x-python",
   "name": "python",
   "nbconvert_exporter": "python",
   "pygments_lexer": "ipython3",
   "version": "3.8.3"
  }
 },
 "nbformat": 4,
 "nbformat_minor": 2
}
